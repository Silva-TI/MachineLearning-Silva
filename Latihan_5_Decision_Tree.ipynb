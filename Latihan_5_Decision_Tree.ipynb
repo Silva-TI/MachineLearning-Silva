{
  "nbformat": 4,
  "nbformat_minor": 0,
  "metadata": {
    "colab": {
      "provenance": [],
      "authorship_tag": "ABX9TyOuJzJv2jsRoq6QnBWqOau3",
      "include_colab_link": true
    },
    "kernelspec": {
      "name": "python3",
      "display_name": "Python 3"
    },
    "language_info": {
      "name": "python"
    }
  },
  "cells": [
    {
      "cell_type": "markdown",
      "metadata": {
        "id": "view-in-github",
        "colab_type": "text"
      },
      "source": [
        "<a href=\"https://colab.research.google.com/github/Silva-TI/MachineLearning-Silva/blob/main/Latihan_5_Decision_Tree.ipynb\" target=\"_parent\"><img src=\"https://colab.research.google.com/assets/colab-badge.svg\" alt=\"Open In Colab\"/></a>"
      ]
    },
    {
      "cell_type": "code",
      "execution_count": null,
      "metadata": {
        "id": "yKbEyquLckLE"
      },
      "outputs": [],
      "source": [
        "import pandas as pd\n",
        "import numpy as np\n",
        "import matplotlib.pyplot as plt\n",
        "import seaborn as sns\n",
        "from sklearn.model_selection import train_test_split\n",
        "from sklearn.tree import DecisionTreeClassifier, plot_tree\n",
        "from sklearn.metrics import accuracy_score,confusion_matrix, classification_report"
      ]
    },
    {
      "cell_type": "code",
      "source": [
        "from google.colab import drive\n",
        "drive.mount('/content/gdrive')"
      ],
      "metadata": {
        "id": "HVaIzotTcx8C"
      },
      "execution_count": null,
      "outputs": []
    },
    {
      "cell_type": "code",
      "source": [
        "path = \"/content/gdrive/MyDrive/Nurulfikri/Laptop/SEM 3/Machine Learning/Praktikum ml/Praktikum 5\""
      ],
      "metadata": {
        "id": "zgjzyJXJdJrS"
      },
      "execution_count": null,
      "outputs": []
    },
    {
      "cell_type": "code",
      "source": [
        "import pandas as pd\n",
        "\n",
        "df = pd.read_csv(path + '/Data/Iris.csv')\n",
        "df.head()"
      ],
      "metadata": {
        "id": "vwQkmgZ5dM-j"
      },
      "execution_count": null,
      "outputs": []
    },
    {
      "cell_type": "code",
      "source": [
        "df.info()"
      ],
      "metadata": {
        "id": "iZZoVEOjdkQn"
      },
      "execution_count": null,
      "outputs": []
    },
    {
      "cell_type": "code",
      "source": [
        "df.isnull().sum()"
      ],
      "metadata": {
        "id": "umWhOIvGdqWD"
      },
      "execution_count": null,
      "outputs": []
    },
    {
      "cell_type": "code",
      "source": [
        "df.duplicated().sum()"
      ],
      "metadata": {
        "id": "TC6OOJ1DdwAw"
      },
      "execution_count": null,
      "outputs": []
    },
    {
      "cell_type": "code",
      "source": [
        "df = df.drop_duplicates()"
      ],
      "metadata": {
        "id": "HAjkDj9odxc2"
      },
      "execution_count": null,
      "outputs": []
    },
    {
      "cell_type": "code",
      "source": [
        "df.duplicated().sum()"
      ],
      "metadata": {
        "id": "aey6sUHed0MQ"
      },
      "execution_count": null,
      "outputs": []
    },
    {
      "cell_type": "code",
      "source": [
        "df = df.rename(columns={\n",
        "    'SepalLengthCm': 'panjang_kelopak_cm',\n",
        "    'SepalWidthCm': 'lebar_kelopak_cm',\n",
        "    'PetalLengthCm': 'panjang_mahkota_cm',\n",
        "    'PetalWidthCm': 'lebar_mahkota_cm',\n",
        "    'Species': 'spesies'\n",
        "})"
      ],
      "metadata": {
        "id": "qcw3guhKeQoB"
      },
      "execution_count": null,
      "outputs": []
    },
    {
      "cell_type": "code",
      "source": [
        "df.info()"
      ],
      "metadata": {
        "id": "u_OyY3ZseYVr"
      },
      "execution_count": null,
      "outputs": []
    },
    {
      "cell_type": "code",
      "source": [
        "plt.figure(figsize=(6, 4))\n",
        "sns.countplot(x='spesies', data=df)\n",
        "plt.title('Distribusi label spesies')\n",
        "plt.xticks(rotation=15)\n",
        "plt.show()"
      ],
      "metadata": {
        "id": "JMVHmR8Bfewy"
      },
      "execution_count": null,
      "outputs": []
    },
    {
      "cell_type": "code",
      "source": [
        "# Encoding kolom target 'spesies'\n",
        "spesies_cat = df['spesies'].astype('category')\n",
        "spesies_classes = list(spesies_cat.cat.categories)\n",
        "df['spesies_encoded'] = spesies_cat.cat.codes\n",
        "\n",
        "# Kolom kategorikal fitur yang perlu di-encode (List ini kosong karena semua fitur Iris sudah numerik)\n",
        "kolom_kategorikal_fitur = []\n",
        "\n",
        "for col in kolom_kategorikal_fitur:\n",
        "  if col in df.columns:\n",
        "    df[col] = df[col].astype('category').cat.codes\n",
        "\n",
        "# Bersihkan kolom 'spesies' asli dan ganti nama kolom encoded\n",
        "df = df.drop(columns=['spesies'])\n",
        "df.rename(columns={'spesies_encoded': 'spesies'}, inplace=True)\n",
        "\n",
        "df.head()"
      ],
      "metadata": {
        "id": "Wh86LIq_flxH"
      },
      "execution_count": null,
      "outputs": []
    },
    {
      "cell_type": "code",
      "source": [
        "plt.figure(figsize=(6, 4))\n",
        "sns.heatmap(df.corr(), annot=True, cmap='coolwarm')\n",
        "plt.title('Korelasi Fitur')\n",
        "plt.show()"
      ],
      "metadata": {
        "id": "ZqTO_0ZNhpel"
      },
      "execution_count": null,
      "outputs": []
    },
    {
      "cell_type": "code",
      "source": [
        "X = df[['panjang_kelopak_cm', 'panjang_mahkota_cm', 'lebar_mahkota_cm']]\n",
        "y = df['spesies']\n",
        "\n",
        "X_train, X_test, y_train, y_test = train_test_split(\n",
        "    X, y,\n",
        "    test_size=0.2,\n",
        "    random_state=42,\n",
        "    stratify=y\n",
        ")\n",
        "len(X_train), len(X_test)"
      ],
      "metadata": {
        "id": "1cAsZnOkiVdD"
      },
      "execution_count": null,
      "outputs": []
    },
    {
      "cell_type": "code",
      "source": [
        "dt = DecisionTreeClassifier(\n",
        "    criterion='gini',\n",
        "    max_depth=4,\n",
        "    random_state=42\n",
        ")\n",
        "dt.fit(X_train, y_train)"
      ],
      "metadata": {
        "id": "2gcjjALbigBI"
      },
      "execution_count": null,
      "outputs": []
    },
    {
      "cell_type": "code",
      "source": [
        "# Model kita diberi nama 'dt'\n",
        "y_pred = dt.predict(X_test)\n",
        "\n",
        "print(\"Akurasi:\", round(accuracy_score(y_test, y_pred)*100, 2), \"%\")\n",
        "print(\"\\nConfusion Matrix:\\n\", confusion_matrix(y_test, y_pred))\n",
        "# Menggunakan nama kelas 'spesies_classes'\n",
        "print(\"\\nClassification Report:\\n\", classification_report(y_test, y_pred, target_names=spesies_classes))"
      ],
      "metadata": {
        "id": "g1jBq7_Ii0TK"
      },
      "execution_count": null,
      "outputs": []
    },
    {
      "cell_type": "code",
      "source": [
        "plt.figure(figsize=(22,10))\n",
        "\n",
        "# Define feature_names from the training data columns\n",
        "feature_names = X_train.columns.tolist()\n",
        "\n",
        "plot_tree(\n",
        "    dt, # Model Decision Tree yang sudah dilatih\n",
        "    feature_names=feature_names, # List nama fitur (panjang_kelopak_cm, dll.)\n",
        "    class_names=spesies_classes, # List nama kelas target ('Iris-setosa', dll.)\n",
        "    filled=True,\n",
        "    fontsize=9,\n",
        "    rounded=True # Tambahkan rounded agar kotak lebih bagus\n",
        ")\n",
        "plt.title(\"Pohon Keputusan - Klasifikasi Spesies Iris\", fontsize=16)\n",
        "plt.show()"
      ],
      "metadata": {
        "id": "Ukz3NC5Bi9TJ"
      },
      "execution_count": null,
      "outputs": []
    },
    {
      "cell_type": "code",
      "source": [
        "imp = pd.Series(dt.feature_importances_, index=feature_names).sort_values(ascending=False)\n",
        "plt.figure(figsize=(10, 6))\n",
        "sns.barplot(x=imp, y=imp.index)\n",
        "plt.title('Feature Importance (Decision Tree)')\n",
        "plt.xlabel('Importance')\n",
        "plt.ylabel('Fitur')\n",
        "plt.show()\n",
        "\n",
        "imp"
      ],
      "metadata": {
        "id": "hm20NqxqjaZ4"
      },
      "execution_count": null,
      "outputs": []
    },
    {
      "cell_type": "code",
      "source": [
        "scores = {}\n",
        "for d in range(2, nine :=9):\n",
        "  m = DecisionTreeClassifier(max_depth=d, random_state=42)\n",
        "  m.fit(X_train, y_train)\n",
        "  scores[d] = accuracy_score(y_test, m.predict(X_test))\n",
        "\n",
        "scores\n",
        "best_d = max(scores, key=scores.get)\n",
        "print(\"Best max_depth:\", best_d,\"| Acc:\", round(scores[best_d]*100,2), \"%\")"
      ],
      "metadata": {
        "id": "ODKjsBfajkje"
      },
      "execution_count": null,
      "outputs": []
    }
  ]
}