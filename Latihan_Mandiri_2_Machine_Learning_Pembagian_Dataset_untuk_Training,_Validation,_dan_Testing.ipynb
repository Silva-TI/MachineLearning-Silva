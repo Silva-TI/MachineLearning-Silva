{
  "nbformat": 4,
  "nbformat_minor": 0,
  "metadata": {
    "colab": {
      "provenance": [],
      "include_colab_link": true
    },
    "kernelspec": {
      "name": "python3",
      "display_name": "Python 3"
    },
    "language_info": {
      "name": "python"
    }
  },
  "cells": [
    {
      "cell_type": "markdown",
      "metadata": {
        "id": "view-in-github",
        "colab_type": "text"
      },
      "source": [
        "<a href=\"https://colab.research.google.com/github/Silva-TI/MachineLearning-Silva/blob/main/Latihan_Mandiri_2_Machine_Learning_Pembagian_Dataset_untuk_Training%2C_Validation%2C_dan_Testing.ipynb\" target=\"_parent\"><img src=\"https://colab.research.google.com/assets/colab-badge.svg\" alt=\"Open In Colab\"/></a>"
      ]
    },
    {
      "cell_type": "code",
      "source": [
        "import pandas as pd\n",
        "import numpy as np"
      ],
      "metadata": {
        "id": "3f9zfptk9PQp"
      },
      "execution_count": 13,
      "outputs": []
    },
    {
      "cell_type": "code",
      "source": [
        "# memasukan dataset\n",
        "df = pd.read_csv(\"day.csv\")\n",
        "total_size = len(df)"
      ],
      "metadata": {
        "id": "lWKIUTWP9z2w"
      },
      "execution_count": 14,
      "outputs": []
    },
    {
      "cell_type": "code",
      "source": [
        "# pembagian rasio sesuai soal\n",
        "rasio_testing = 0.20\n",
        "rasio_validation = 0.10\n",
        "rasioo_training = 0.80"
      ],
      "metadata": {
        "id": "OBBPZQkN92BN"
      },
      "execution_count": 15,
      "outputs": []
    },
    {
      "cell_type": "code",
      "source": [
        "# Hitung jumlah baris\n",
        "jumlah_testing = int(np.ceil(total_size * rasio_testing))\n",
        "jumlah_validation = int(np.ceil(total_size * rasio_validation))\n",
        "jumlah_training = total_size - jumlah_testing - jumlah_validation"
      ],
      "metadata": {
        "id": "9dIBn6otEp7f"
      },
      "execution_count": 16,
      "outputs": []
    },
    {
      "cell_type": "code",
      "source": [
        "# A. DATA TESTING (20%)\n",
        "df_test = df.iloc[:jumlah_testing]"
      ],
      "metadata": {
        "id": "RvCuCcDTFGwL"
      },
      "execution_count": 17,
      "outputs": []
    },
    {
      "cell_type": "code",
      "source": [
        "print(\"\\n--- DATA TESTING (20% dari Total) ---\")\n",
        "print(f\"Jumlah: {len(df_test)} baris\")\n",
        "print(df_test.head())"
      ],
      "metadata": {
        "colab": {
          "base_uri": "https://localhost:8080/"
        },
        "id": "5YjDi0q7FOjy",
        "outputId": "ac0528ca-ecaa-4d0d-a069-02d492a2af7c"
      },
      "execution_count": 18,
      "outputs": [
        {
          "output_type": "stream",
          "name": "stdout",
          "text": [
            "\n",
            "--- DATA TESTING (20% dari Total) ---\n",
            "Jumlah: 147 baris\n",
            "   instant      dteday  season  yr  mnth  holiday  weekday  workingday  \\\n",
            "0        1  2011-01-01       1   0     1        0        6           0   \n",
            "1        2  2011-01-02       1   0     1        0        0           0   \n",
            "2        3  2011-01-03       1   0     1        0        1           1   \n",
            "3        4  2011-01-04       1   0     1        0        2           1   \n",
            "4        5  2011-01-05       1   0     1        0        3           1   \n",
            "\n",
            "   weathersit      temp     atemp       hum  windspeed  casual  registered  \\\n",
            "0           2  0.344167  0.363625  0.805833   0.160446     331         654   \n",
            "1           2  0.363478  0.353739  0.696087   0.248539     131         670   \n",
            "2           1  0.196364  0.189405  0.437273   0.248309     120        1229   \n",
            "3           1  0.200000  0.212122  0.590435   0.160296     108        1454   \n",
            "4           1  0.226957  0.229270  0.436957   0.186900      82        1518   \n",
            "\n",
            "    cnt  \n",
            "0   985  \n",
            "1   801  \n",
            "2  1349  \n",
            "3  1562  \n",
            "4  1600  \n"
          ]
        }
      ]
    },
    {
      "cell_type": "code",
      "source": [
        "# B. DATA VALIDATION (10%)\n",
        "start_validation = jumlah_testing\n",
        "end_validation = jumlah_testing + jumlah_validation\n",
        "df_validation = df.iloc[start_validation : end_validation]"
      ],
      "metadata": {
        "id": "1zyjEuMBFWlz"
      },
      "execution_count": 19,
      "outputs": []
    },
    {
      "cell_type": "code",
      "source": [
        "print(\"\\n--- DATA VALIDATION (10% dari Total) ---\")\n",
        "print(f\"Jumlah: {len(df_validation)} baris\")\n",
        "print(df_validation.head())"
      ],
      "metadata": {
        "colab": {
          "base_uri": "https://localhost:8080/"
        },
        "id": "1aGduabqFqku",
        "outputId": "f45a08cf-ccf7-400e-bc7f-be2d496889bf"
      },
      "execution_count": 20,
      "outputs": [
        {
          "output_type": "stream",
          "name": "stdout",
          "text": [
            "\n",
            "--- DATA VALIDATION (8% dari Total) ---\n",
            "Jumlah: 74 baris\n",
            "     instant      dteday  season  yr  mnth  holiday  weekday  workingday  \\\n",
            "147      148  2011-05-28       2   0     5        0        6           0   \n",
            "148      149  2011-05-29       2   0     5        0        0           0   \n",
            "149      150  2011-05-30       2   0     5        1        1           0   \n",
            "150      151  2011-05-31       2   0     5        0        2           1   \n",
            "151      152  2011-06-01       2   0     6        0        3           1   \n",
            "\n",
            "     weathersit      temp     atemp       hum  windspeed  casual  registered  \\\n",
            "147           1  0.655833  0.612379  0.729583   0.230092    2001        2757   \n",
            "148           1  0.667500  0.615550  0.818750   0.213938    2355        2433   \n",
            "149           1  0.733333  0.671092  0.685000   0.131225    1549        2549   \n",
            "150           1  0.775000  0.725383  0.636667   0.111329     673        3309   \n",
            "151           2  0.764167  0.720967  0.677083   0.207092     513        3461   \n",
            "\n",
            "      cnt  \n",
            "147  4758  \n",
            "148  4788  \n",
            "149  4098  \n",
            "150  3982  \n",
            "151  3974  \n"
          ]
        }
      ]
    },
    {
      "cell_type": "code",
      "source": [
        "# C. DATA TRAINING (80%)\n",
        "df_train = df.iloc[end_validation:]"
      ],
      "metadata": {
        "id": "Ce2tCRWVFtlD"
      },
      "execution_count": 21,
      "outputs": []
    },
    {
      "cell_type": "code",
      "source": [
        "print(\"\\n--- DATA TRAINING (80% dari Total) ---\")\n",
        "print(f\"Jumlah: {len(df_train)} baris\")\n",
        "print(df_train.head())"
      ],
      "metadata": {
        "colab": {
          "base_uri": "https://localhost:8080/"
        },
        "id": "0eabmCMjFxyJ",
        "outputId": "cbd54e6e-525c-4bdf-dd74-84429507285b"
      },
      "execution_count": 22,
      "outputs": [
        {
          "output_type": "stream",
          "name": "stdout",
          "text": [
            "\n",
            "--- DATA TRAINING (72% dari Total) ---\n",
            "Jumlah: 510 baris\n",
            "     instant      dteday  season  yr  mnth  holiday  weekday  workingday  \\\n",
            "221      222  2011-08-10       3   0     8        0        3           1   \n",
            "222      223  2011-08-11       3   0     8        0        4           1   \n",
            "223      224  2011-08-12       3   0     8        0        5           1   \n",
            "224      225  2011-08-13       3   0     8        0        6           0   \n",
            "225      226  2011-08-14       3   0     8        0        0           0   \n",
            "\n",
            "     weathersit      temp     atemp       hum  windspeed  casual  registered  \\\n",
            "221           1  0.766667  0.684983  0.424167   0.200258     884        3896   \n",
            "222           1  0.717500  0.651521  0.423750   0.164796     812        3980   \n",
            "223           1  0.708333  0.654042  0.415000   0.125621    1051        3854   \n",
            "224           2  0.685833  0.645858  0.729583   0.211454    1504        2646   \n",
            "225           2  0.676667  0.624388  0.817500   0.222633    1338        2482   \n",
            "\n",
            "      cnt  \n",
            "221  4780  \n",
            "222  4792  \n",
            "223  4905  \n",
            "224  4150  \n",
            "225  3820  \n"
          ]
        }
      ]
    }
  ]
}